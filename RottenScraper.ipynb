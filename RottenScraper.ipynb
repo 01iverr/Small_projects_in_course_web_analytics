{
 "cells": [
  {
   "cell_type": "code",
   "execution_count": 1,
   "metadata": {},
   "outputs": [],
   "source": [
    "import csv\n",
    "from bs4 import BeautifulSoup\n",
    "from urllib.request import urlopen\n",
    "\n",
    "def scrape(url) :\n",
    "    #open the link\n",
    "    page = urlopen(url)\n",
    "    html = page.read().decode(\"utf-8\")\n",
    "    soup = BeautifulSoup(html, \"html.parser\")\n",
    "    #take names of reviewers/ratings/ days\n",
    "    names_of_reviewers=soup.find_all(attrs={'class': 'audience-reviews__name', 'data-qa': 'review-name'}) \n",
    "    ratings=soup.find_all(attrs={'class': ['star-display__filled','star-display__empty']})\n",
    "    dates_of_reviews=soup.find_all(attrs={'class': 'audience-reviews__duration', 'data-qa': 'review-duration'})\n",
    "    #write \n",
    "    with open('reviews.csv', 'w', encoding=\"UTF8\", newline='') as file:\n",
    "        writer = csv.writer(file)\n",
    "        for i in range (0,len(names_of_reviewers) ) :\n",
    "            ratingsnum=0\n",
    "            for j in range (i*5,i*5+5):\n",
    "                if (\"filled\" in str(ratings[j]) ):\n",
    "                    ratingsnum=ratingsnum+1\n",
    "                if (\"half\" in str(ratings[j])):\n",
    "                    ratingsnum=ratingsnum+0.5\n",
    "            data = [names_of_reviewers[i].text,ratingsnum, dates_of_reviews[i].text]\n",
    "            writer.writerow(data)\n",
    "    file.close()\n",
    "\n",
    "scrape(\"https://www.rottentomatoes.com/m/the_good_nurse/reviews?type=verified_audience\")"
   ]
  }
 ],
 "metadata": {
  "kernelspec": {
   "display_name": "Python 3.9.2 64-bit",
   "language": "python",
   "name": "python3"
  },
  "language_info": {
   "codemirror_mode": {
    "name": "ipython",
    "version": 3
   },
   "file_extension": ".py",
   "mimetype": "text/x-python",
   "name": "python",
   "nbconvert_exporter": "python",
   "pygments_lexer": "ipython3",
   "version": "3.9.2"
  },
  "orig_nbformat": 4,
  "vscode": {
   "interpreter": {
    "hash": "82ed002fa2d4956f5c6aec99bcefe0f73a9f79882f3c9e2319b14958a5896ac5"
   }
  }
 },
 "nbformat": 4,
 "nbformat_minor": 2
}
