{
 "cells": [
  {
   "cell_type": "code",
   "execution_count": 1,
   "id": "4e169639",
   "metadata": {},
   "outputs": [
    {
     "data": {
      "text/plain": [
       "0.747111930880497"
      ]
     },
     "execution_count": 1,
     "metadata": {},
     "output_type": "execute_result"
    }
   ],
   "source": [
    "import pandas as pd\n",
    "from sklearn.feature_extraction.text import CountVectorizer\n",
    "from sklearn.metrics import accuracy_score\n",
    "from sklearn.naive_bayes import MultinomialNB\n",
    "\n",
    "traindata = pd.read_csv('train_data.csv')\n",
    "testdata = pd.read_csv('test_data.csv')\n",
    "\n",
    "traindata = traindata.dropna()\n",
    "testdata =testdata.dropna()\n",
    "\n",
    "traindata=traindata[['reviews.text','reviews.rating']]\n",
    "testdata=testdata[['reviews.text','reviews.rating']]\n",
    "\n",
    "\n",
    "traindata.dropna()\n",
    "testdata.dropna()\n",
    "\n",
    "train_text=traindata['reviews.text']\n",
    "test_text=testdata['reviews.text']\n",
    "train_labels=traindata['reviews.rating']\n",
    "test_labels=testdata['reviews.rating']\n",
    "\n",
    "#Build a counter based on the training dataset\n",
    "counter = CountVectorizer(stop_words='english',max_df=0.3)\n",
    "counter.fit(train_text)\n",
    "\n",
    "#count the number of times each term appears in a ocument and transform each doc into a count vector\n",
    "counts_train = counter.transform(train_text)#transform the training data\n",
    "\n",
    "counts_test = counter.transform(test_text)#transform the testing data\n",
    "\n",
    "model=MultinomialNB()\n",
    "\n",
    "model.fit(counts_train,train_labels)\n",
    "\n",
    "pred=model.predict(counts_test)\n",
    "\n",
    "accuracy_score(test_labels,pred)\n",
    "\n"
   ]
  }
 ],
 "metadata": {
  "kernelspec": {
   "display_name": "Python 3",
   "language": "python",
   "name": "python3"
  },
  "language_info": {
   "codemirror_mode": {
    "name": "ipython",
    "version": 3
   },
   "file_extension": ".py",
   "mimetype": "text/x-python",
   "name": "python",
   "nbconvert_exporter": "python",
   "pygments_lexer": "ipython3",
   "version": "3.9.2"
  },
  "vscode": {
   "interpreter": {
    "hash": "82ed002fa2d4956f5c6aec99bcefe0f73a9f79882f3c9e2319b14958a5896ac5"
   }
  }
 },
 "nbformat": 4,
 "nbformat_minor": 5
}
