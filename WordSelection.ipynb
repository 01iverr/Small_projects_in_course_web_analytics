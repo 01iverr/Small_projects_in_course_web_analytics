{
 "cells": [
  {
   "cell_type": "code",
   "execution_count": 23,
   "metadata": {},
   "outputs": [
    {
     "data": {
      "text/plain": [
       "['room']"
      ]
     },
     "execution_count": 23,
     "metadata": {},
     "output_type": "execute_result"
    }
   ],
   "source": [
    "def select (L,D):\n",
    "    Words=[]\n",
    "    for j in D.keys():\n",
    "        for a in L:\n",
    "            if a == j:\n",
    "                if Words.count(a)<1:\n",
    "                    if L.count(a) >= D[j][0] and L.count(a) <= D[j][1]:\n",
    "                        Words.append(a)\n",
    "    return Words\n",
    "\n",
    "L=['table', 'apple', 'orange', 'room', 'person', 'room', 'room', 'person','orange'] \n",
    "D={'table':[2, 5], 'chair':[0, 2], 'room':[2, 4], 'food':[3, 20]}\n",
    "select(L,D)\n",
    "\n",
    "\n"
   ]
  }
 ],
 "metadata": {
  "kernelspec": {
   "display_name": "Python 3.9.2 64-bit",
   "language": "python",
   "name": "python3"
  },
  "language_info": {
   "codemirror_mode": {
    "name": "ipython",
    "version": 3
   },
   "file_extension": ".py",
   "mimetype": "text/x-python",
   "name": "python",
   "nbconvert_exporter": "python",
   "pygments_lexer": "ipython3",
   "version": "3.9.2"
  },
  "vscode": {
   "interpreter": {
    "hash": "82ed002fa2d4956f5c6aec99bcefe0f73a9f79882f3c9e2319b14958a5896ac5"
   }
  }
 },
 "nbformat": 4,
 "nbformat_minor": 4
}
